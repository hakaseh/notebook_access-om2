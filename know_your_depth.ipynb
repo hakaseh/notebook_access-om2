{
 "cells": [
  {
   "cell_type": "markdown",
   "metadata": {},
   "source": [
    "### find out how deep is the ocean basin of your interest is in ACCESS-OM2-01 (to help you estimate how many depth layers to save for diagnostics)"
   ]
  },
  {
   "cell_type": "code",
   "execution_count": 1,
   "metadata": {},
   "outputs": [
    {
     "name": "stderr",
     "output_type": "stream",
     "text": [
      "/g/data3/hh5/public/apps/miniconda3/envs/analysis3-21.01/lib/python3.8/site-packages/distributed/node.py:151: UserWarning: Port 8787 is already in use.\n",
      "Perhaps you already have a cluster running?\n",
      "Hosting the HTTP server on port 34037 instead\n",
      "  warnings.warn(\n"
     ]
    },
    {
     "data": {
      "text/html": [
       "<table style=\"border: 2px solid white;\">\n",
       "<tr>\n",
       "<td style=\"vertical-align: top; border: 0px solid white\">\n",
       "<h3 style=\"text-align: left;\">Client</h3>\n",
       "<ul style=\"text-align: left; list-style: none; margin: 0; padding: 0;\">\n",
       "  <li><b>Scheduler: </b>tcp://127.0.0.1:45663</li>\n",
       "  <li><b>Dashboard: </b><a href='http://127.0.0.1:34037/status' target='_blank'>http://127.0.0.1:34037/status</a></li>\n",
       "</ul>\n",
       "</td>\n",
       "<td style=\"vertical-align: top; border: 0px solid white\">\n",
       "<h3 style=\"text-align: left;\">Cluster</h3>\n",
       "<ul style=\"text-align: left; list-style:none; margin: 0; padding: 0;\">\n",
       "  <li><b>Workers: </b>4</li>\n",
       "  <li><b>Cores: </b>8</li>\n",
       "  <li><b>Memory: </b>30.06 GB</li>\n",
       "</ul>\n",
       "</td>\n",
       "</tr>\n",
       "</table>"
      ],
      "text/plain": [
       "<Client: 'tcp://127.0.0.1:45663' processes=4 threads=8, memory=30.06 GB>"
      ]
     },
     "execution_count": 1,
     "metadata": {},
     "output_type": "execute_result"
    }
   ],
   "source": [
    "from scipy import *\n",
    "from pylab import *\n",
    "from numpy import *\n",
    "import xarray as xr\n",
    "from dask.distributed import Client,LocalCluster\n",
    "client = Client()\n",
    "client"
   ]
  },
  {
   "cell_type": "code",
   "execution_count": 101,
   "metadata": {},
   "outputs": [],
   "source": [
    "ds_topog = xr.open_dataset('/g/data/ik11/inputs/access-om2/input_20201102/mom_01deg/topog.nc')\n",
    "ds_tsini = xr.open_dataset('/g/data/ik11/inputs/access-om2/input_20201102/mom_01deg/ocean_temp_salt.res.nc')"
   ]
  },
  {
   "cell_type": "code",
   "execution_count": 102,
   "metadata": {},
   "outputs": [],
   "source": [
    "ds_topog = ds_topog.rename(({'xx':'GRID_X_T', 'yy':'GRID_Y_T'}))\n",
    "ds_topog['GRID_X_T'] = ds_tsini['GRID_X_T']\n",
    "ds_topog['GRID_Y_T'] = ds_tsini['GRID_Y_T']"
   ]
  },
  {
   "cell_type": "markdown",
   "metadata": {},
   "source": [
    "### Here enter the longitude and latitudinal range of your interest.\n",
    "0. replace x0,x1,y0,y1.\n",
    "1. for longitude, use the range 0-360, where 0 is at Greenwich and increases Eastward.\n",
    "2. for latitude, use positive for NH and negative for SH."
   ]
  },
  {
   "cell_type": "code",
   "execution_count": 193,
   "metadata": {},
   "outputs": [],
   "source": [
    "x0 = 98\n",
    "x1 = 120\n",
    "y0 = 1\n",
    "y1 = 7\n",
    "\n",
    "#convert to -280 to 80 coordinate system of MOM\n",
    "if x0 > 80:\n",
    "    x0 = x0 -360\n",
    "if x1 > 80:\n",
    "    x1 = x1 - 360"
   ]
  },
  {
   "cell_type": "markdown",
   "metadata": {},
   "source": [
    "### Below, you should see the bathymetry of your study region with min, max, mean depths printed."
   ]
  },
  {
   "cell_type": "code",
   "execution_count": 194,
   "metadata": {},
   "outputs": [
    {
     "name": "stdout",
     "output_type": "stream",
     "text": [
      "max depth: 10.432805061340332\n",
      "min depth: 5315.41650390625\n",
      "mean depth: 439.8091\n"
     ]
    },
    {
     "data": {
      "text/plain": [
       "<matplotlib.collections.QuadMesh at 0x7f1f79627c40>"
      ]
     },
     "execution_count": 194,
     "metadata": {},
     "output_type": "execute_result"
    },
    {
     "data": {
      "image/png": "[encoded data removed]",
      "text/plain": [
       "<Figure size 432x288 with 2 Axes>"
      ]
     },
     "metadata": {
      "needs_background": "light"
     },
     "output_type": "display_data"
    }
   ],
   "source": [
    "my_zone = ds_topog['depth'].sel(GRID_X_T=slice(x0,x1),GRID_Y_T=slice(y0,y1))\n",
    "print('max depth:',my_zone.min().values)\n",
    "print('min depth:',my_zone.max().values)\n",
    "print('mean depth:',my_zone.mean().values)\n",
    "my_zone.plot(vmin=my_zone.min(),vmax=my_zone.max())"
   ]
  }
 ],
 "metadata": {
  "kernelspec": {
   "display_name": "Python [conda env:analysis3-21.01] *",
   "language": "python",
   "name": "conda-env-analysis3-21.01-py"
  },
  "language_info": {
   "codemirror_mode": {
    "name": "ipython",
    "version": 3
   },
   "file_extension": ".py",
   "mimetype": "text/x-python",
   "name": "python",
   "nbconvert_exporter": "python",
   "pygments_lexer": "ipython3",
   "version": "3.8.6"
  }
 },
 "nbformat": 4,
 "nbformat_minor": 4
}
